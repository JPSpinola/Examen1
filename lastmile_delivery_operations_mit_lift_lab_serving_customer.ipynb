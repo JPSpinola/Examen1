{
  "nbformat": 4,
  "nbformat_minor": 0,
  "metadata": {
    "colab": {
      "provenance": [],
      "authorship_tag": "ABX9TyOsVQJ0fTMDiSgKg9ewcNZo",
      "include_colab_link": true
    },
    "kernelspec": {
      "name": "python3",
      "display_name": "Python 3"
    },
    "language_info": {
      "name": "python"
    }
  },
  "cells": [
    {
      "cell_type": "markdown",
      "metadata": {
        "id": "view-in-github",
        "colab_type": "text"
      },
      "source": [
        "<a href=\"https://colab.research.google.com/github/JPSpinola/Examen1/blob/main/lastmile_delivery_operations_mit_lift_lab_serving_customer.ipynb\" target=\"_parent\"><img src=\"https://colab.research.google.com/assets/colab-badge.svg\" alt=\"Open In Colab\"/></a>"
      ]
    },
    {
      "cell_type": "code",
      "execution_count": 1,
      "metadata": {
        "id": "Np2PWn4AzgGY"
      },
      "outputs": [],
      "source": [
        "#Importamos las librerias pandas, numpy y matplotlib\n",
        "import pandas as pd\n",
        "import numpy as np\n",
        "import matplotlib.pyplot as plt"
      ]
    },
    {
      "cell_type": "code",
      "source": [
        "#Cargar archivo csv desde equipo\n",
        "from google.colab import files\n",
        "files.upload()"
      ],
      "metadata": {
        "id": "uIMs3aIozpUB"
      },
      "execution_count": null,
      "outputs": []
    },
    {
      "cell_type": "code",
      "source": [
        "#Carga desde un archivo .csv sin indice\n",
        "data = pd.read_csv('lastmile_delivery_operations_mit_lift_lab_serving_customer.csv')"
      ],
      "metadata": {
        "id": "SeN0Npd3ztO_"
      },
      "execution_count": 3,
      "outputs": []
    },
    {
      "cell_type": "code",
      "source": [
        "#Identificar valores nulos por columna\n",
        "valores_nulos=data.isnull().sum() \n",
        "valores_nulos"
      ],
      "metadata": {
        "id": "CLytO0Ctz1c0",
        "colab": {
          "base_uri": "https://localhost:8080/"
        },
        "outputId": "04eb47bc-98ff-42d0-bf65-4218da82e98e"
      },
      "execution_count": 4,
      "outputs": [
        {
          "output_type": "execute_result",
          "data": {
            "text/plain": [
              "_child_record_id                           0\n",
              "_record_id                                 0\n",
              "_parent_id                                 0\n",
              "_title                                     0\n",
              "_version                                   0\n",
              "_created_at                                0\n",
              "_updated_at                                0\n",
              "_created_by                                0\n",
              "_updated_by                                0\n",
              "_index                                     0\n",
              "_geometry                                  0\n",
              "_latitude                                  0\n",
              "_longitude                                 0\n",
              "_changeset_id                              0\n",
              "_created_duration                          0\n",
              "_updated_duration                          0\n",
              "_edited_duration                           0\n",
              "name_of_the_store                          0\n",
              "entering_the_store                         0\n",
              "number_of_customers_in_store               0\n",
              "number_of_suppliers_in_store               0\n",
              "picture_cargo_being_delivered             10\n",
              "picture_cargo_being_delivered_captions    33\n",
              "picture_cargo_being_delivered_urls        10\n",
              "number_of_cases_boxes_delivered            0\n",
              "trolley_in_use                             0\n",
              "leaving_the_store                          0\n",
              "dtype: int64"
            ]
          },
          "metadata": {},
          "execution_count": 4
        }
      ]
    },
    {
      "cell_type": "markdown",
      "source": [
        "**MÉTODOS DE SUSTITUCIÓN PARA VALORES NULOS**"
      ],
      "metadata": {
        "id": "TqIZ1aaz6qoU"
      }
    },
    {
      "cell_type": "code",
      "source": [
        "data.info()"
      ],
      "metadata": {
        "colab": {
          "base_uri": "https://localhost:8080/"
        },
        "id": "ezYhs6yMx12h",
        "outputId": "9411449e-54f7-48cd-be0f-ed62565b08ee"
      },
      "execution_count": 5,
      "outputs": [
        {
          "output_type": "stream",
          "name": "stdout",
          "text": [
            "<class 'pandas.core.frame.DataFrame'>\n",
            "RangeIndex: 35 entries, 0 to 34\n",
            "Data columns (total 27 columns):\n",
            " #   Column                                  Non-Null Count  Dtype  \n",
            "---  ------                                  --------------  -----  \n",
            " 0   _child_record_id                        35 non-null     object \n",
            " 1   _record_id                              35 non-null     object \n",
            " 2   _parent_id                              35 non-null     object \n",
            " 3   _title                                  35 non-null     object \n",
            " 4   _version                                35 non-null     int64  \n",
            " 5   _created_at                             35 non-null     object \n",
            " 6   _updated_at                             35 non-null     object \n",
            " 7   _created_by                             35 non-null     object \n",
            " 8   _updated_by                             35 non-null     object \n",
            " 9   _index                                  35 non-null     int64  \n",
            " 10  _geometry                               35 non-null     object \n",
            " 11  _latitude                               35 non-null     float64\n",
            " 12  _longitude                              35 non-null     float64\n",
            " 13  _changeset_id                           35 non-null     object \n",
            " 14  _created_duration                       35 non-null     int64  \n",
            " 15  _updated_duration                       35 non-null     int64  \n",
            " 16  _edited_duration                        35 non-null     int64  \n",
            " 17  name_of_the_store                       35 non-null     object \n",
            " 18  entering_the_store                      35 non-null     object \n",
            " 19  number_of_customers_in_store            35 non-null     int64  \n",
            " 20  number_of_suppliers_in_store            35 non-null     int64  \n",
            " 21  picture_cargo_being_delivered           25 non-null     object \n",
            " 22  picture_cargo_being_delivered_captions  2 non-null      object \n",
            " 23  picture_cargo_being_delivered_urls      25 non-null     object \n",
            " 24  number_of_cases_boxes_delivered         35 non-null     int64  \n",
            " 25  trolley_in_use                          35 non-null     object \n",
            " 26  leaving_the_store                       35 non-null     object \n",
            "dtypes: float64(2), int64(8), object(17)\n",
            "memory usage: 7.5+ KB\n"
          ]
        }
      ]
    },
    {
      "cell_type": "code",
      "source": [
        "#Separamos variables cualitativas del DataFrame\n",
        "#Filtro por columnas\n",
        "cualitativas=data.iloc[: ,[0,1,2,3,4,5,6,7,8,10,11,12,13,14,15,16,17,18,21,22,23,25,26]]\n",
        "cualitativas\n",
        "#Se incluyeron las columnas 4,11,12,14,15,16 debido a que no se utilizarán en la sustitución de outliers por ser valores \"únicos\"."
      ],
      "metadata": {
        "id": "e4WsiifByDow"
      },
      "execution_count": null,
      "outputs": []
    },
    {
      "cell_type": "code",
      "source": [
        "#Sustituir valores nulos por un string en concreto\n",
        "cualitativas[\"picture_cargo_being_delivered\"]=cualitativas[\"picture_cargo_being_delivered\"].fillna(\"NO PICTURE\")\n",
        "#Se susitituyeron valores nulos para indicar que no hay una foto disponible."
      ],
      "metadata": {
        "id": "nbWjKgtT6-z2"
      },
      "execution_count": null,
      "outputs": []
    },
    {
      "cell_type": "code",
      "source": [
        "#Corroboramos valores nulos por columna\n",
        "valores_nulos=cualitativas.isnull().sum() \n",
        "valores_nulos"
      ],
      "metadata": {
        "id": "vbHTPkTs7RHC"
      },
      "execution_count": null,
      "outputs": []
    },
    {
      "cell_type": "code",
      "source": [
        "#Sustituir valores nulos por un string en concreto\n",
        "cualitativas[\"picture_cargo_being_delivered_captions\"]=cualitativas[\"picture_cargo_being_delivered_captions\"].fillna(\"NO PICTURE\")\n",
        "#Se susitituyeron valores nulos para indicar que no hay una foto disponible."
      ],
      "metadata": {
        "id": "UDzkoMRfAIEB"
      },
      "execution_count": null,
      "outputs": []
    },
    {
      "cell_type": "code",
      "source": [
        "#Corroboramos valores nulos por columna\n",
        "valores_nulos=cualitativas.isnull().sum() \n",
        "valores_nulos"
      ],
      "metadata": {
        "id": "JdgwZ88sAodx"
      },
      "execution_count": null,
      "outputs": []
    },
    {
      "cell_type": "code",
      "source": [
        "#Sustituir valores nulos por un string en concreto\n",
        "cualitativas[\"picture_cargo_being_delivered_urls\"]=cualitativas[\"picture_cargo_being_delivered_urls\"].fillna(\"NO PICTURE\")\n",
        "#Se susitituyeron valores nulos para indicar que no hay una foto disponible."
      ],
      "metadata": {
        "id": "2_CJ-k2kAsk5"
      },
      "execution_count": null,
      "outputs": []
    },
    {
      "cell_type": "code",
      "source": [
        "#Corroboramos valores nulos por columna\n",
        "valores_nulos=cualitativas.isnull().sum() \n",
        "valores_nulos"
      ],
      "metadata": {
        "id": "XW104XGQA91B"
      },
      "execution_count": null,
      "outputs": []
    },
    {
      "cell_type": "code",
      "source": [
        "#Corroboramos valores nulos totales\n",
        "valores_nulos=cualitativas.isnull().sum().sum()\n",
        "valores_nulos"
      ],
      "metadata": {
        "id": "JwMVF96XBStq"
      },
      "execution_count": null,
      "outputs": []
    },
    {
      "cell_type": "markdown",
      "source": [
        "**ELIMINAR OUTLIERS**"
      ],
      "metadata": {
        "id": "EznnR-pr0PoY"
      }
    },
    {
      "cell_type": "code",
      "source": [
        "#Realizamos diagrama de caja de cada columna del df\n",
        "fig = plt.figure(figsize=(15,8))\n",
        "data.plot(kind='box', vert=False)\n",
        "plt.title(\"Valores Atípicos del DataFrame\")\n",
        "plt.show() # dibujamos el diagrama"
      ],
      "metadata": {
        "id": "4woYBkJG0Qpj"
      },
      "execution_count": null,
      "outputs": []
    },
    {
      "cell_type": "code",
      "source": [
        "data.info()"
      ],
      "metadata": {
        "id": "4HsyY1aN0amC"
      },
      "execution_count": null,
      "outputs": []
    },
    {
      "cell_type": "code",
      "source": [
        "#Filtro por columnas\n",
        "cuantitativas=data.iloc[: ,[19,20,24]]\n",
        "cuantitativas\n",
        "#No se incluyó la columna 9 debido a que se considera una columna innecesaria en el análisis."
      ],
      "metadata": {
        "id": "niYsWzmt0dby"
      },
      "execution_count": null,
      "outputs": []
    },
    {
      "cell_type": "code",
      "source": [
        "#Método aplicando Cuartiles. Encuentro cuartiles 0.25 y 0.75\n",
        "y=cuantitativas\n",
        "\n",
        "percentile25=y.quantile(0.25) #Q1\n",
        "percentile75=y.quantile(0.75) #Q2\n",
        "iqr= percentile75 - percentile25\n",
        "\n",
        "Limite_Superior_iqr= percentile75 + 1.5*iqr\n",
        "Limite_Inferior_iqr= percentile25 + 1.5*iqr\n",
        "print(\"Límite superior permitido\", Limite_Superior_iqr)\n",
        "print(\"Límite inferior permitido\", Limite_Inferior_iqr)"
      ],
      "metadata": {
        "id": "BrLiN-Jq0yqt"
      },
      "execution_count": null,
      "outputs": []
    },
    {
      "cell_type": "code",
      "source": [
        "#Encontramos Outliers del DataFrame\n",
        "outlier_iqr= cuantitativas[(y>Limite_Superior_iqr)&(y<Limite_Inferior_iqr)]\n",
        "outlier_iqr"
      ],
      "metadata": {
        "id": "7QUA5OKU020E"
      },
      "execution_count": null,
      "outputs": []
    },
    {
      "cell_type": "code",
      "source": [
        "#Obtenemos datos limpios del DataFrame\n",
        "data3_iqr= cuantitativas[(y<=Limite_Superior_iqr)&(y>=Limite_Inferior_iqr)]\n",
        "data3_iqr"
      ],
      "metadata": {
        "id": "7fh-9C-A05u0"
      },
      "execution_count": null,
      "outputs": []
    },
    {
      "cell_type": "code",
      "source": [
        "#Corroboramos valores nulos del dataframe\n",
        "valores_nulos=data3_iqr.isnull().sum()\n",
        "valores_nulos"
      ],
      "metadata": {
        "id": "g2QwWBHk08Uz"
      },
      "execution_count": null,
      "outputs": []
    },
    {
      "cell_type": "code",
      "source": [
        "#Reemplazamos valores atípicos (nulos) del dataframe con \"mean\"\n",
        "#Realizamos una copia del dataframe\n",
        "data4_iqr=data3_iqr.copy()\n",
        "data4_iqr=data4_iqr.fillna(round(data4_iqr.mean(),1))\n",
        "data4_iqr"
      ],
      "metadata": {
        "id": "rk4ya4g20_Hk"
      },
      "execution_count": null,
      "outputs": []
    },
    {
      "cell_type": "code",
      "source": [
        "#Corroboramos valores nulos del dataframe LIMPIO\n",
        "valores_nulos=data4_iqr.isnull().sum()\n",
        "valores_nulos"
      ],
      "metadata": {
        "id": "cBGBZTD01C3N"
      },
      "execution_count": null,
      "outputs": []
    },
    {
      "cell_type": "code",
      "source": [
        "#Unir columnas sin outliers (cuantitativas) y columnas cualitativas\n",
        "lastmile_delivery_operations_mit_lift_lab_serving_customer_LIMPIO = pd.concat([cualitativas, data4_iqr], axis=1)\n",
        "lastmile_delivery_operations_mit_lift_lab_serving_customer_LIMPIO"
      ],
      "metadata": {
        "id": "shBpAt1x1FUm"
      },
      "execution_count": null,
      "outputs": []
    },
    {
      "cell_type": "code",
      "source": [
        "#Convertir DataFrame a CSV\n",
        "lastmile_delivery_operations_mit_lift_lab_serving_customer_LIMPIO.to_csv(\"lastmile_delivery_operations_mit_lift_lab_serving_customer_LIMPIO.csv\")"
      ],
      "metadata": {
        "id": "2t7sA6dT1be6"
      },
      "execution_count": 27,
      "outputs": []
    },
    {
      "cell_type": "code",
      "source": [
        "#Descargar archivo filtrado en CSV\n",
        "from google.colab import files\n",
        "\n",
        "files.download(\"lastmile_delivery_operations_mit_lift_lab_serving_customer_LIMPIO.csv\")"
      ],
      "metadata": {
        "id": "6dNOUjp81kx8"
      },
      "execution_count": null,
      "outputs": []
    },
    {
      "cell_type": "markdown",
      "source": [
        "Se utilizó el metodo de cuantiles debido a la baja exposición a valores extremos (outliers). Al considerarse únicamente las observaciones entre el tercer cuartil y el primer cuartil, todas las observaciones fuera de ese rango quedan excluidas del cálculo y, por tanto, solo se tienen en cuenta las observaciones más cercanas a la mediana. Dándonos un resultado más \"exacto\" comparado con el método de desviación estándar.\n"
      ],
      "metadata": {
        "id": "4buGQohP2ioU"
      }
    }
  ]
}