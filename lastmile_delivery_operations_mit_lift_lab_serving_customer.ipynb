{
  "nbformat": 4,
  "nbformat_minor": 0,
  "metadata": {
    "colab": {
      "provenance": [],
      "authorship_tag": "ABX9TyOsVQJ0fTMDiSgKg9ewcNZo",
      "include_colab_link": true
    },
    "kernelspec": {
      "name": "python3",
      "display_name": "Python 3"
    },
    "language_info": {
      "name": "python"
    }
  },
  "cells": [
    {
      "cell_type": "markdown",
      "metadata": {
        "id": "view-in-github",
        "colab_type": "text"
      },
      "source": [
        "<a href=\"https://colab.research.google.com/github/JPSpinola/Examen1/blob/main/lastmile_delivery_operations_mit_lift_lab_serving_customer.ipynb\" target=\"_parent\"><img src=\"https://colab.research.google.com/assets/colab-badge.svg\" alt=\"Open In Colab\"/></a>"
      ]
    },
    {
      "cell_type": "code",
      "execution_count": 1,
      "metadata": {
        "id": "Np2PWn4AzgGY"
      },
      "outputs": [],
      "source": [
        "#Importamos las librerias pandas, numpy y matplotlib\n",
        "import pandas as pd\n",
        "import numpy as np\n",
        "import matplotlib.pyplot as plt"
      ]
    },
    {
      "cell_type": "code",
      "source": [
        "#Cargar archivo csv desde equipo\n",
        "from google.colab import files\n",
        "files.upload()"
      ],
      "metadata": {
        "id": "uIMs3aIozpUB"
      },
      "execution_count": null,
      "outputs": []
    },
    {
      "cell_type": "code",
      "source": [
        "#Carga desde un archivo .csv sin indice\n",
        "data = pd.read_csv('lastmile_delivery_operations_mit_lift_lab_serving_customer.csv')"
      ],
      "metadata": {
        "id": "SeN0Npd3ztO_"
      },
      "execution_count": 3,
      "outputs": []
    },
    {
      "cell_type": "code",
      "source": [
        "#Identificar valores nulos por columna\n",
        "valores_nulos=data.isnull().sum() \n",
        "valores_nulos"
      ],
      "metadata": {
        "id": "CLytO0Ctz1c0"
      },
      "execution_count": null,
      "outputs": []
    },
    {
      "cell_type": "markdown",
      "source": [
        "**MÉTODOS DE SUSTITUCIÓN PARA VALORES NULOS**"
      ],
      "metadata": {
        "id": "TqIZ1aaz6qoU"
      }
    },
    {
      "cell_type": "code",
      "source": [
        "data.info()"
      ],
      "metadata": {
        "id": "ezYhs6yMx12h"
      },
      "execution_count": null,
      "outputs": []
    },
    {
      "cell_type": "code",
      "source": [
        "#Separamos variables cualitativas del DataFrame\n",
        "#Filtro por columnas\n",
        "cualitativas=data.iloc[: ,[0,1,2,3,4,5,6,7,8,10,11,12,13,14,15,16,17,18,21,22,23,25,26]]\n",
        "cualitativas\n",
        "#Se incluyeron las columnas 4,11,12,14,15,16 debido a que no se utilizarán en la sustitución de outliers por ser valores \"únicos\"."
      ],
      "metadata": {
        "id": "e4WsiifByDow"
      },
      "execution_count": null,
      "outputs": []
    },
    {
      "cell_type": "code",
      "source": [
        "#Sustituir valores nulos por un string en concreto\n",
        "cualitativas[\"picture_cargo_being_delivered\"]=cualitativas[\"picture_cargo_being_delivered\"].fillna(\"NO PICTURE\")\n",
        "#Se susitituyeron valores nulos para indicar que no hay una foto disponible."
      ],
      "metadata": {
        "id": "nbWjKgtT6-z2"
      },
      "execution_count": null,
      "outputs": []
    },
    {
      "cell_type": "code",
      "source": [
        "#Corroboramos valores nulos por columna\n",
        "valores_nulos=cualitativas.isnull().sum() \n",
        "valores_nulos"
      ],
      "metadata": {
        "id": "vbHTPkTs7RHC"
      },
      "execution_count": null,
      "outputs": []
    },
    {
      "cell_type": "code",
      "source": [
        "#Sustituir valores nulos por un string en concreto\n",
        "cualitativas[\"picture_cargo_being_delivered_captions\"]=cualitativas[\"picture_cargo_being_delivered_captions\"].fillna(\"NO PICTURE\")\n",
        "#Se susitituyeron valores nulos para indicar que no hay una foto disponible."
      ],
      "metadata": {
        "id": "UDzkoMRfAIEB"
      },
      "execution_count": null,
      "outputs": []
    },
    {
      "cell_type": "code",
      "source": [
        "#Corroboramos valores nulos por columna\n",
        "valores_nulos=cualitativas.isnull().sum() \n",
        "valores_nulos"
      ],
      "metadata": {
        "id": "JdgwZ88sAodx"
      },
      "execution_count": null,
      "outputs": []
    },
    {
      "cell_type": "code",
      "source": [
        "#Sustituir valores nulos por un string en concreto\n",
        "cualitativas[\"picture_cargo_being_delivered_urls\"]=cualitativas[\"picture_cargo_being_delivered_urls\"].fillna(\"NO PICTURE\")\n",
        "#Se susitituyeron valores nulos para indicar que no hay una foto disponible."
      ],
      "metadata": {
        "id": "2_CJ-k2kAsk5"
      },
      "execution_count": null,
      "outputs": []
    },
    {
      "cell_type": "code",
      "source": [
        "#Corroboramos valores nulos por columna\n",
        "valores_nulos=cualitativas.isnull().sum() \n",
        "valores_nulos"
      ],
      "metadata": {
        "id": "XW104XGQA91B"
      },
      "execution_count": null,
      "outputs": []
    },
    {
      "cell_type": "code",
      "source": [
        "#Corroboramos valores nulos totales\n",
        "valores_nulos=cualitativas.isnull().sum().sum()\n",
        "valores_nulos"
      ],
      "metadata": {
        "id": "JwMVF96XBStq"
      },
      "execution_count": null,
      "outputs": []
    },
    {
      "cell_type": "markdown",
      "source": [
        "**ELIMINAR OUTLIERS**"
      ],
      "metadata": {
        "id": "EznnR-pr0PoY"
      }
    },
    {
      "cell_type": "code",
      "source": [
        "#Realizamos diagrama de caja de cada columna del df\n",
        "fig = plt.figure(figsize=(15,8))\n",
        "data.plot(kind='box', vert=False)\n",
        "plt.title(\"Valores Atípicos del DataFrame\")\n",
        "plt.show() # dibujamos el diagrama"
      ],
      "metadata": {
        "id": "4woYBkJG0Qpj"
      },
      "execution_count": null,
      "outputs": []
    },
    {
      "cell_type": "code",
      "source": [
        "data.info()"
      ],
      "metadata": {
        "id": "4HsyY1aN0amC"
      },
      "execution_count": null,
      "outputs": []
    },
    {
      "cell_type": "code",
      "source": [
        "#Filtro por columnas\n",
        "cuantitativas=data.iloc[: ,[19,20,24]]\n",
        "cuantitativas\n",
        "#No se incluyó la columna 9 debido a que se considera una columna innecesaria en el análisis."
      ],
      "metadata": {
        "id": "niYsWzmt0dby"
      },
      "execution_count": null,
      "outputs": []
    },
    {
      "cell_type": "code",
      "source": [
        "#Método aplicando Cuartiles. Encuentro cuartiles 0.25 y 0.75\n",
        "y=cuantitativas\n",
        "\n",
        "percentile25=y.quantile(0.25) #Q1\n",
        "percentile75=y.quantile(0.75) #Q2\n",
        "iqr= percentile75 - percentile25\n",
        "\n",
        "Limite_Superior_iqr= percentile75 + 1.5*iqr\n",
        "Limite_Inferior_iqr= percentile25 + 1.5*iqr\n",
        "print(\"Límite superior permitido\", Limite_Superior_iqr)\n",
        "print(\"Límite inferior permitido\", Limite_Inferior_iqr)"
      ],
      "metadata": {
        "id": "BrLiN-Jq0yqt"
      },
      "execution_count": null,
      "outputs": []
    },
    {
      "cell_type": "code",
      "source": [
        "#Encontramos Outliers del DataFrame\n",
        "outlier_iqr= cuantitativas[(y>Limite_Superior_iqr)&(y<Limite_Inferior_iqr)]\n",
        "outlier_iqr"
      ],
      "metadata": {
        "id": "7QUA5OKU020E"
      },
      "execution_count": null,
      "outputs": []
    },
    {
      "cell_type": "code",
      "source": [
        "#Obtenemos datos limpios del DataFrame\n",
        "data3_iqr= cuantitativas[(y<=Limite_Superior_iqr)&(y>=Limite_Inferior_iqr)]\n",
        "data3_iqr"
      ],
      "metadata": {
        "id": "7fh-9C-A05u0"
      },
      "execution_count": null,
      "outputs": []
    },
    {
      "cell_type": "code",
      "source": [
        "#Corroboramos valores nulos del dataframe\n",
        "valores_nulos=data3_iqr.isnull().sum()\n",
        "valores_nulos"
      ],
      "metadata": {
        "id": "g2QwWBHk08Uz"
      },
      "execution_count": null,
      "outputs": []
    },
    {
      "cell_type": "code",
      "source": [
        "#Reemplazamos valores atípicos (nulos) del dataframe con \"mean\"\n",
        "#Realizamos una copia del dataframe\n",
        "data4_iqr=data3_iqr.copy()\n",
        "data4_iqr=data4_iqr.fillna(round(data4_iqr.mean(),1))\n",
        "data4_iqr"
      ],
      "metadata": {
        "id": "rk4ya4g20_Hk"
      },
      "execution_count": null,
      "outputs": []
    },
    {
      "cell_type": "code",
      "source": [
        "#Corroboramos valores nulos del dataframe LIMPIO\n",
        "valores_nulos=data4_iqr.isnull().sum()\n",
        "valores_nulos"
      ],
      "metadata": {
        "id": "cBGBZTD01C3N"
      },
      "execution_count": null,
      "outputs": []
    },
    {
      "cell_type": "code",
      "source": [
        "#Unir columnas sin outliers (cuantitativas) y columnas cualitativas\n",
        "lastmile_delivery_operations_mit_lift_lab_serving_customer_LIMPIO = pd.concat([cualitativas, data4_iqr], axis=1)\n",
        "lastmile_delivery_operations_mit_lift_lab_serving_customer_LIMPIO"
      ],
      "metadata": {
        "id": "shBpAt1x1FUm"
      },
      "execution_count": null,
      "outputs": []
    },
    {
      "cell_type": "code",
      "source": [
        "#Convertir DataFrame a CSV\n",
        "lastmile_delivery_operations_mit_lift_lab_serving_customer_LIMPIO.to_csv(\"lastmile_delivery_operations_mit_lift_lab_serving_customer_LIMPIO.csv\")"
      ],
      "metadata": {
        "id": "2t7sA6dT1be6"
      },
      "execution_count": 27,
      "outputs": []
    },
    {
      "cell_type": "code",
      "source": [
        "#Descargar archivo filtrado en CSV\n",
        "from google.colab import files\n",
        "\n",
        "files.download(\"lastmile_delivery_operations_mit_lift_lab_serving_customer_LIMPIO.csv\")"
      ],
      "metadata": {
        "id": "6dNOUjp81kx8"
      },
      "execution_count": null,
      "outputs": []
    },
    {
      "cell_type": "markdown",
      "source": [
        "Se utilizó el metodo de cuantiles debido a la baja exposición a valores extremos (outliers). Al considerarse únicamente las observaciones entre el tercer cuartil y el primer cuartil, todas las observaciones fuera de ese rango quedan excluidas del cálculo y, por tanto, solo se tienen en cuenta las observaciones más cercanas a la mediana. Dándonos un resultado más \"exacto\" comparado con el método de desviación estándar.\n"
      ],
      "metadata": {
        "id": "4buGQohP2ioU"
      }
    }
  ]
}