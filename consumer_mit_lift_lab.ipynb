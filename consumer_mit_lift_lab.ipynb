{
  "nbformat": 4,
  "nbformat_minor": 0,
  "metadata": {
    "colab": {
      "provenance": [],
      "authorship_tag": "ABX9TyPCQqRj24HOfchypHP0WqA3",
      "include_colab_link": true
    },
    "kernelspec": {
      "name": "python3",
      "display_name": "Python 3"
    },
    "language_info": {
      "name": "python"
    }
  },
  "cells": [
    {
      "cell_type": "markdown",
      "metadata": {
        "id": "view-in-github",
        "colab_type": "text"
      },
      "source": [
        "<a href=\"https://colab.research.google.com/github/JPSpinola/Examen1/blob/main/consumer_mit_lift_lab.ipynb\" target=\"_parent\"><img src=\"https://colab.research.google.com/assets/colab-badge.svg\" alt=\"Open In Colab\"/></a>"
      ]
    },
    {
      "cell_type": "code",
      "execution_count": 1,
      "metadata": {
        "id": "vW_udJJfIpV5"
      },
      "outputs": [],
      "source": [
        "#Importamos las librerias pandas, numpy y matplotlib\n",
        "import pandas as pd\n",
        "import numpy as np\n",
        "import matplotlib.pyplot as plt"
      ]
    },
    {
      "cell_type": "code",
      "source": [
        "#Cargar archivo csv desde equipo\n",
        "from google.colab import files\n",
        "files.upload()"
      ],
      "metadata": {
        "id": "ERb5KFF0IyDz"
      },
      "execution_count": null,
      "outputs": []
    },
    {
      "cell_type": "code",
      "source": [
        "#Carga desde un archivo .xlsx sin indice\n",
        "data= pd.read_excel('consumer_mit_lift_lab.xlsx')\n",
        "data"
      ],
      "metadata": {
        "id": "gid_T6EuI0Rv"
      },
      "execution_count": null,
      "outputs": []
    },
    {
      "cell_type": "code",
      "source": [
        "#Identificar valores nulos por columna\n",
        "valores_nulos=data.isnull().sum() \n",
        "valores_nulos"
      ],
      "metadata": {
        "id": "6p8iA8WaI1pj"
      },
      "execution_count": null,
      "outputs": []
    },
    {
      "cell_type": "markdown",
      "source": [
        "**MÉTODOS DE SUSTITUCIÓN DE VALORES NULOS**"
      ],
      "metadata": {
        "id": "MW4RNqOpI9Iz"
      }
    },
    {
      "cell_type": "code",
      "source": [
        "data.info() "
      ],
      "metadata": {
        "id": "wRnyNjuFX8gN"
      },
      "execution_count": null,
      "outputs": []
    },
    {
      "cell_type": "code",
      "source": [
        "#Separamos variables cualitativas del DataFrame\n",
        "#Filtro por columnas\n",
        "cualitativas=data.iloc[: ,[0,1,2,3,4,5,6,7,8,9,10,11,13,14,15,16,17,18,19,20,21,22,23,24,25,32,33,34,35]]\n",
        "cualitativas\n",
        "#En este caso también se separo la longitud y latitud debido a que no se utilizarán en la sustitución de outliers por ser valores únicos."
      ],
      "metadata": {
        "id": "xbJL15OxI7Bp"
      },
      "execution_count": null,
      "outputs": []
    },
    {
      "cell_type": "code",
      "source": [
        "#Sustituir valores nulos por un string en concreto\n",
        "cualitativas[\"300_did_not_find\"]=cualitativas[\"300_did_not_find\"].fillna(\"Si encontro lo que buscaba\") \n",
        "#Se sustituyeron los valores nulos por \"Si encontro lo que buscaba\" para indicar que el consumidor si encontró lo que necesitaba."
      ],
      "metadata": {
        "id": "JTxCaY_GJ2z0"
      },
      "execution_count": null,
      "outputs": []
    },
    {
      "cell_type": "code",
      "source": [
        "#Corroboramos valores nulos\n",
        "valores_nulos=cualitativas.isnull().sum()\n",
        "valores_nulos"
      ],
      "metadata": {
        "id": "fDTuvqoBKCmz"
      },
      "execution_count": null,
      "outputs": []
    },
    {
      "cell_type": "code",
      "source": [
        "#Sustituir valores nulos por un string en concreto\n",
        "cualitativas[\"284_additional_products_store\"]=cualitativas[\"284_additional_products_store\"].fillna(\"No additional products\")\n",
        "#Se sustituyeron los valores nulos por \"No additional products\" para indicar que no hay productos adicionales."
      ],
      "metadata": {
        "id": "mEzBbNhtKHkM"
      },
      "execution_count": null,
      "outputs": []
    },
    {
      "cell_type": "code",
      "source": [
        "#Corroboramos valores nulos\n",
        "valores_nulos=cualitativas.isnull().sum()\n",
        "valores_nulos"
      ],
      "metadata": {
        "id": "q0_tBpmtKMrT"
      },
      "execution_count": null,
      "outputs": []
    },
    {
      "cell_type": "code",
      "source": [
        "#Sustituir valores nulos por un string en concreto\n",
        "cualitativas[\"305_electricity_bill_store\"]=cualitativas[\"305_electricity_bill_store\"].fillna(\"No answer\") \n",
        "#Se sustitueron los valores nulos por el string \"No answer\" para indicar que no hay una respuesta por parte del consumidor."
      ],
      "metadata": {
        "id": "4QLHx3IXKR5z"
      },
      "execution_count": null,
      "outputs": []
    },
    {
      "cell_type": "code",
      "source": [
        "#Corroboramos valores nulos\n",
        "valores_nulos=cualitativas.isnull().sum()\n",
        "valores_nulos"
      ],
      "metadata": {
        "id": "lnTkf4yEKWPG"
      },
      "execution_count": null,
      "outputs": []
    },
    {
      "cell_type": "code",
      "source": [
        "#Sustituir valores nulos por un string en concreto\n",
        "cualitativas[\"306_water_bill_store\"]=cualitativas[\"306_water_bill_store\"].fillna(\"No answer\") \n",
        "#Se sustitueron los valores nulos por el string \"No answer\" para indicar que no hay una respuesta por parte del consumidor."
      ],
      "metadata": {
        "id": "L1qIITWOKYgi"
      },
      "execution_count": null,
      "outputs": []
    },
    {
      "cell_type": "code",
      "source": [
        "#Corroboramos valores nulos\n",
        "valores_nulos=cualitativas.isnull().sum()\n",
        "valores_nulos"
      ],
      "metadata": {
        "id": "_wWm6XUrKfuk"
      },
      "execution_count": null,
      "outputs": []
    },
    {
      "cell_type": "code",
      "source": [
        "#Sustituir valores nulos por un string en concreto\n",
        "cualitativas[\"307_gas_bill_store\"]=cualitativas[\"307_gas_bill_store\"].fillna(\"No answer\") \n",
        "#Se sustitueron los valores nulos por el string \"No answer\" para indicar que no hay una respuesta por parte del consumidor."
      ],
      "metadata": {
        "id": "rZy7gwJqKlHl"
      },
      "execution_count": null,
      "outputs": []
    },
    {
      "cell_type": "code",
      "source": [
        "#Corroboramos valores nulos\n",
        "valores_nulos=cualitativas.isnull().sum()\n",
        "valores_nulos"
      ],
      "metadata": {
        "id": "BVilo5rrKpMc"
      },
      "execution_count": null,
      "outputs": []
    },
    {
      "cell_type": "code",
      "source": [
        "#Sustituir valores nulos por un string en concreto\n",
        "cualitativas[\"308_topups_in_store\"]=cualitativas[\"308_topups_in_store\"].fillna(\"No answer\") \n",
        "#Se sustitueron los valores nulos por el string \"No answer\" para indicar que no hay una respuesta por parte del consumidor."
      ],
      "metadata": {
        "id": "VVz3d7JWK1Dj"
      },
      "execution_count": null,
      "outputs": []
    },
    {
      "cell_type": "code",
      "source": [
        "#Corroboramos valores nulos\n",
        "valores_nulos=cualitativas.isnull().sum()\n",
        "valores_nulos"
      ],
      "metadata": {
        "id": "aARcTgrKK6Rv"
      },
      "execution_count": null,
      "outputs": []
    },
    {
      "cell_type": "code",
      "source": [
        "#Sustituir valores nulos por un string en concreto\n",
        "cualitativas[\"309_wiretransfers_in_store\"]=cualitativas[\"309_wiretransfers_in_store\"].fillna(\"No answer\") \n",
        "#Se sustitueron los valores nulos por el string \"No answer\" para indicar que no hay una respuesta por parte del consumidor."
      ],
      "metadata": {
        "id": "ohatR-p0K9l4"
      },
      "execution_count": null,
      "outputs": []
    },
    {
      "cell_type": "code",
      "source": [
        "#Corroboramos valores nulos\n",
        "valores_nulos=cualitativas.isnull().sum()\n",
        "valores_nulos"
      ],
      "metadata": {
        "id": "bgABUPxhK-in"
      },
      "execution_count": null,
      "outputs": []
    },
    {
      "cell_type": "code",
      "source": [
        "#Sustituir valores nulos por un string en concreto\n",
        "cualitativas[\"304_additional_services_store\"]=cualitativas[\"304_additional_services_store\"].fillna(\"No additional services\") \n",
        "#Se sustituyeron los valores nulos por el string \"No additional services\" para indicar que el consumidor no desea que el establecimiento ofrezca otros servicios"
      ],
      "metadata": {
        "id": "07aM_hsfLExA"
      },
      "execution_count": null,
      "outputs": []
    },
    {
      "cell_type": "code",
      "source": [
        "#Corroboramos valores nulos\n",
        "valores_nulos=cualitativas.isnull().sum()\n",
        "valores_nulos"
      ],
      "metadata": {
        "id": "byRmWxcbLLH8"
      },
      "execution_count": null,
      "outputs": []
    },
    {
      "cell_type": "code",
      "source": [
        "#Sustituir valores nulos por un string en concreto\n",
        "cualitativas[\"storefront_picture_just_once_if_possible\"]=cualitativas[\"storefront_picture_just_once_if_possible\"].fillna(\"No photo\") \n",
        "#Se sustituyeron los valores nulos por el string \"No picture\" para indicar que no hay una imagen disponible del establecimiento."
      ],
      "metadata": {
        "id": "_KDszFUAM5G7"
      },
      "execution_count": null,
      "outputs": []
    },
    {
      "cell_type": "code",
      "source": [
        "#Corroboramos valores nulos\n",
        "valores_nulos=cualitativas.isnull().sum()\n",
        "valores_nulos"
      ],
      "metadata": {
        "id": "MMwIsZlQM9pb"
      },
      "execution_count": null,
      "outputs": []
    },
    {
      "cell_type": "code",
      "source": [
        "#Corroboramos valores nulos totales\n",
        "valores_nulos=cualitativas.isnull().sum().sum()\n",
        "valores_nulos"
      ],
      "metadata": {
        "id": "NAbOw78KNYjb"
      },
      "execution_count": null,
      "outputs": []
    },
    {
      "cell_type": "markdown",
      "source": [
        "**ELIMINAR OUTLIERS**"
      ],
      "metadata": {
        "id": "PHEkgPGFNeLL"
      }
    },
    {
      "cell_type": "code",
      "source": [
        "#Realizamos diagrama de caja de cada columna del df\n",
        "fig = plt.figure(figsize=(15,8))\n",
        "data.plot(kind='box', vert=False)\n",
        "plt.title(\"Valores Atípicos del DataFrame\")\n",
        "plt.show() # dibujamos el diagrama"
      ],
      "metadata": {
        "id": "NTz9017aNc9a"
      },
      "execution_count": null,
      "outputs": []
    },
    {
      "cell_type": "code",
      "source": [
        "data.info()"
      ],
      "metadata": {
        "id": "zPVgCh4DN7k8"
      },
      "execution_count": null,
      "outputs": []
    },
    {
      "cell_type": "code",
      "source": [
        "#Filtro por columnas\n",
        "cuantitativas=data.iloc[: ,[12,26,27,28,29,30,31]]\n",
        "cuantitativas"
      ],
      "metadata": {
        "id": "Oo2qJzxmOACU"
      },
      "execution_count": null,
      "outputs": []
    },
    {
      "cell_type": "code",
      "source": [
        "#Método aplicando Cuartiles. Encuentro cuartiles 0.25 y 0.75\n",
        "y=cuantitativas\n",
        "\n",
        "percentile25=y.quantile(0.25) #Q1\n",
        "percentile75=y.quantile(0.75) #Q2\n",
        "iqr= percentile75 - percentile25\n",
        "\n",
        "Limite_Superior_iqr= percentile75 + 1.5*iqr\n",
        "Limite_Inferior_iqr= percentile25 + 1.5*iqr\n",
        "print(\"Límite superior permitido\", Limite_Superior_iqr)\n",
        "print(\"Límite inferior permitido\", Limite_Inferior_iqr)"
      ],
      "metadata": {
        "id": "HfNKb-ddOagj"
      },
      "execution_count": null,
      "outputs": []
    },
    {
      "cell_type": "code",
      "source": [
        "#Encontramos Outliers del DataFrame\n",
        "outlier_iqr= cuantitativas[(y>Limite_Superior_iqr)&(y<Limite_Inferior_iqr)]\n",
        "outlier_iqr"
      ],
      "metadata": {
        "id": "AcJgpDofOjhs"
      },
      "execution_count": null,
      "outputs": []
    },
    {
      "cell_type": "code",
      "source": [
        "#Obtenemos datos limpios del DataFrame\n",
        "data3_iqr= cuantitativas[(y<=Limite_Superior_iqr)&(y>=Limite_Inferior_iqr)]\n",
        "data3_iqr"
      ],
      "metadata": {
        "id": "hN7Tgb_hOomR"
      },
      "execution_count": null,
      "outputs": []
    },
    {
      "cell_type": "code",
      "source": [
        "#Corroboramos valores nulos del dataframe\n",
        "valores_nulos=data3_iqr.isnull().sum()\n",
        "valores_nulos"
      ],
      "metadata": {
        "id": "jMB90YfeOtmJ"
      },
      "execution_count": null,
      "outputs": []
    },
    {
      "cell_type": "code",
      "source": [
        "#Reemplazamos valores atípicos (nulos) del dataframe con \"mean\"\n",
        "#Realizamos una copia del dataframe\n",
        "data4_iqr=data3_iqr.copy()\n",
        "data4_iqr=data4_iqr.fillna(round(data4_iqr.mean(),1))\n",
        "data4_iqr"
      ],
      "metadata": {
        "id": "_iIRbzuVOxwi"
      },
      "execution_count": null,
      "outputs": []
    },
    {
      "cell_type": "code",
      "source": [
        "#Corroboramos valores nulos del dataframe LIMPIO\n",
        "valores_nulos=data4_iqr.isnull().sum()\n",
        "valores_nulos"
      ],
      "metadata": {
        "id": "rdfpN5OAO2t7"
      },
      "execution_count": null,
      "outputs": []
    },
    {
      "cell_type": "code",
      "source": [
        "#Unir columnas sin outliers (cuantitativas) y columnas cualitativas\n",
        "consumer_mit_laft_lab_LIMPIO = pd.concat([cualitativas, data4_iqr], axis=1)\n",
        "consumer_mit_laft_lab_LIMPIO"
      ],
      "metadata": {
        "id": "1TYJ_LoCO8IM"
      },
      "execution_count": null,
      "outputs": []
    },
    {
      "cell_type": "code",
      "source": [
        "#Convertir DataFrame a CSV\n",
        "consumer_mit_laft_lab_LIMPIO.to_csv(\"consumer_mit_laft_lab_LIMPIO.csv\")"
      ],
      "metadata": {
        "id": "YXymWKYDSpJt"
      },
      "execution_count": 95,
      "outputs": []
    },
    {
      "cell_type": "code",
      "source": [
        "#Descargar archivo filtrado en CSV\n",
        "from google.colab import files\n",
        "\n",
        "files.download(\"consumer_mit_laft_lab_LIMPIO.csv\")"
      ],
      "metadata": {
        "id": "qwQliPvPSyWl"
      },
      "execution_count": null,
      "outputs": []
    },
    {
      "cell_type": "markdown",
      "source": [
        "Se utilizó el metodo de cuantiles debido a la baja exposición a valores extremos (outliers). Al considerarse únicamente las observaciones entre el tercer cuartil y el primer cuartil, todas las observaciones fuera de ese rango quedan excluidas del cálculo y, por tanto, solo se tienen en cuenta las observaciones más cercanas a la mediana. Dándonos un resultado más \"exacto\" comparado con el método de desviación estándar.\n"
      ],
      "metadata": {
        "id": "8FnjRIaB2gn7"
      }
    }
  ]
}