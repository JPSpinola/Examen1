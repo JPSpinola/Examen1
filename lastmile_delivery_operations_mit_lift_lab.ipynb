{
  "nbformat": 4,
  "nbformat_minor": 0,
  "metadata": {
    "colab": {
      "provenance": [],
      "authorship_tag": "ABX9TyNTrwPG6l3VZGILVddSZr15",
      "include_colab_link": true
    },
    "kernelspec": {
      "name": "python3",
      "display_name": "Python 3"
    },
    "language_info": {
      "name": "python"
    }
  },
  "cells": [
    {
      "cell_type": "markdown",
      "metadata": {
        "id": "view-in-github",
        "colab_type": "text"
      },
      "source": [
        "<a href=\"https://colab.research.google.com/github/JPSpinola/Examen1/blob/main/lastmile_delivery_operations_mit_lift_lab.ipynb\" target=\"_parent\"><img src=\"https://colab.research.google.com/assets/colab-badge.svg\" alt=\"Open In Colab\"/></a>"
      ]
    },
    {
      "cell_type": "code",
      "execution_count": 86,
      "metadata": {
        "id": "Ke_ECL7YxS9x"
      },
      "outputs": [],
      "source": [
        "#Importamos las librerias pandas, numpy y matplotlib\n",
        "import pandas as pd\n",
        "import numpy as np\n",
        "import matplotlib.pyplot as plt"
      ]
    },
    {
      "cell_type": "code",
      "source": [
        "#Cargar archivo csv desde equipo\n",
        "from google.colab import files\n",
        "files.upload()"
      ],
      "metadata": {
        "id": "as255fkfxva3"
      },
      "execution_count": null,
      "outputs": []
    },
    {
      "cell_type": "code",
      "source": [
        "#Carga desde un archivo .csv sin indice\n",
        "data = pd.read_csv('lastmile_delivery_operations_mit_lift_lab.csv')\n",
        "data"
      ],
      "metadata": {
        "id": "e7hrhdfqyOKT"
      },
      "execution_count": null,
      "outputs": []
    },
    {
      "cell_type": "code",
      "source": [
        "#Identificar valores nulos por columna\n",
        "valores_nulos=data.isnull().sum() \n",
        "valores_nulos"
      ],
      "metadata": {
        "id": "wZZvDnCGylBG"
      },
      "execution_count": null,
      "outputs": []
    },
    {
      "cell_type": "markdown",
      "source": [
        "**MÉTODOS DE SUSTITUCIÓN DE VALORES NULOS**"
      ],
      "metadata": {
        "id": "phfuAalcyzv4"
      }
    },
    {
      "cell_type": "code",
      "source": [
        "data.info() "
      ],
      "metadata": {
        "id": "sWQS8ptlcFKk"
      },
      "execution_count": null,
      "outputs": []
    },
    {
      "cell_type": "code",
      "source": [
        "#Separamos variables cualitativas del DataFrame\n",
        "#Filtro por columnas\n",
        "cualitativas=data.iloc[: ,[0,1,2,3,4,5,6,7,8,9,10,11,13,14,15,16,17,18,19,20,22,23,24,25,26,27]]\n",
        "cualitativas\n",
        "#En este caso también se incluyó la longitud y latitud debido a que no se utilizarán en la sustitución de outliers por ser valores \"únicos\".\n",
        "#Se incluyó la columna 25 y 26, debido a que a pesar de ser detectados como float y no contar con niguna respuesta, el valor debe ser tomado como cualitativo."
      ],
      "metadata": {
        "id": "AP6Mgj3LcJpM"
      },
      "execution_count": null,
      "outputs": []
    },
    {
      "cell_type": "code",
      "source": [
        "#Sustituir valores nulos por un string en concreto\n",
        "cualitativas[\"_title\"]=cualitativas[\"_title\"].fillna(\"NO ADRESS\") \n",
        "#Se cambiaron los valores nulos para indicar que no había una dirección de la tienda."
      ],
      "metadata": {
        "id": "daVLW79Qy2Io"
      },
      "execution_count": null,
      "outputs": []
    },
    {
      "cell_type": "code",
      "source": [
        "#Corroboramos valores nulos\n",
        "valores_nulos=cualitativas.isnull().sum()\n",
        "valores_nulos"
      ],
      "metadata": {
        "id": "zbNvzEAy1WtS"
      },
      "execution_count": null,
      "outputs": []
    },
    {
      "cell_type": "code",
      "source": [
        "#Sustituir valores nulos por un string en concreto\n",
        "cualitativas[\"plates\"]=cualitativas[\"plates\"].fillna(\"NO PLATES\") \n",
        "#Se cambiaron los valores nulos para indicar que no se registraron placas del vehículo."
      ],
      "metadata": {
        "id": "prl44iWQ2A2X"
      },
      "execution_count": null,
      "outputs": []
    },
    {
      "cell_type": "code",
      "source": [
        "#Corroboramos valores nulos\n",
        "valores_nulos=cualitativas.isnull().sum()\n",
        "valores_nulos"
      ],
      "metadata": {
        "id": "uvFO6AWz2Jsv"
      },
      "execution_count": null,
      "outputs": []
    },
    {
      "cell_type": "code",
      "source": [
        "#Sustituir valores nulos por un string en concreto\n",
        "cualitativas[\"company_if_visible\"]=cualitativas[\"company_if_visible\"].fillna(\"NO COMPANY NAME\") \n",
        "#Se cambiaron los valores nulos para indicar que no se registro el nombre de la compañía."
      ],
      "metadata": {
        "id": "hOw4nIlg2ngM"
      },
      "execution_count": null,
      "outputs": []
    },
    {
      "cell_type": "code",
      "source": [
        "#Corroboramos valores nulos\n",
        "valores_nulos=cualitativas.isnull().sum()\n",
        "valores_nulos"
      ],
      "metadata": {
        "id": "wkLjVHMP259s"
      },
      "execution_count": null,
      "outputs": []
    },
    {
      "cell_type": "code",
      "source": [
        "#Sustituir valores nulos por un string en concreto\n",
        "cualitativas[\"serving_customer\"]=cualitativas[\"serving_customer\"].fillna(\"0\") \n",
        "#Se cambiaron los valores nulos para indicar que no se registro un servin customer."
      ],
      "metadata": {
        "id": "7YmEqsMw3Pdq"
      },
      "execution_count": null,
      "outputs": []
    },
    {
      "cell_type": "code",
      "source": [
        "#Corroboramos valores nulos\n",
        "valores_nulos=cualitativas.isnull().sum()\n",
        "valores_nulos"
      ],
      "metadata": {
        "id": "dkZGd1LV3zjI"
      },
      "execution_count": null,
      "outputs": []
    },
    {
      "cell_type": "code",
      "source": [
        "#Sustituir valores nulos por un string en concreto\n",
        "cualitativas[\"describe_the_accident\"]=cualitativas[\"describe_the_accident\"].fillna(\"No accident\") \n",
        "#Se cambiaron los valores nulos para indicar que no se provoco un accidente."
      ],
      "metadata": {
        "id": "oLYiS0xp3356"
      },
      "execution_count": null,
      "outputs": []
    },
    {
      "cell_type": "code",
      "source": [
        "#Corroboramos valores nulos\n",
        "valores_nulos=cualitativas.isnull().sum()\n",
        "valores_nulos"
      ],
      "metadata": {
        "id": "9qVr_3Zb4Jt0"
      },
      "execution_count": null,
      "outputs": []
    },
    {
      "cell_type": "code",
      "source": [
        "#Corroboramos valores nulos totales\n",
        "valores_nulos=cualitativas.isnull().sum().sum()\n",
        "valores_nulos"
      ],
      "metadata": {
        "id": "Bo5eOQMp4mYf"
      },
      "execution_count": null,
      "outputs": []
    },
    {
      "cell_type": "markdown",
      "source": [
        "**ELIMINAR OUTLIERS**"
      ],
      "metadata": {
        "id": "anajNwQct1H7"
      }
    },
    {
      "cell_type": "code",
      "source": [
        "#Realizamos diagrama de caja de cada columna del df\n",
        "fig = plt.figure(figsize=(15,8))\n",
        "data.plot(kind='box', vert=False)\n",
        "plt.title(\"Valores Atípicos del DataFrame\")\n",
        "plt.show() # dibujamos el diagrama"
      ],
      "metadata": {
        "id": "qTAYxO0Et23g"
      },
      "execution_count": null,
      "outputs": []
    },
    {
      "cell_type": "code",
      "source": [
        "data.info()"
      ],
      "metadata": {
        "id": "UH3e0XMvuArR"
      },
      "execution_count": null,
      "outputs": []
    },
    {
      "cell_type": "code",
      "source": [
        "#Filtro por columnas\n",
        "cuantitativas=data.iloc[: ,[12,21]]\n",
        "cuantitativas\n",
        "#No se tomó en cuenta la columna 28 debido a que solo cuenta con 2 respuestas, por lo que su análisis sería insignificante.\n",
        "#Al plasmar la gráfica se puede observar que las columnas 12 y 21 son las únicas con outliers."
      ],
      "metadata": {
        "id": "zz-JDk1_uF3m"
      },
      "execution_count": null,
      "outputs": []
    },
    {
      "cell_type": "code",
      "source": [
        "#Método aplicando Cuartiles. Encuentro cuartiles 0.25 y 0.75\n",
        "y=cuantitativas\n",
        "\n",
        "percentile25=y.quantile(0.25) #Q1\n",
        "percentile75=y.quantile(0.75) #Q2\n",
        "iqr= percentile75 - percentile25\n",
        "\n",
        "Limite_Superior_iqr= percentile75 + 1.5*iqr\n",
        "Limite_Inferior_iqr= percentile25 + 1.5*iqr\n",
        "print(\"Límite superior permitido\", Limite_Superior_iqr)\n",
        "print(\"Límite inferior permitido\", Limite_Inferior_iqr)"
      ],
      "metadata": {
        "id": "FwGGM682ut1M"
      },
      "execution_count": null,
      "outputs": []
    },
    {
      "cell_type": "code",
      "source": [
        "#Encontramos Outliers del DataFrame\n",
        "outlier_iqr= cuantitativas[(y>Limite_Superior_iqr)&(y<Limite_Inferior_iqr)]\n",
        "outlier_iqr"
      ],
      "metadata": {
        "id": "sNJJ5HfRu3QI"
      },
      "execution_count": null,
      "outputs": []
    },
    {
      "cell_type": "code",
      "source": [
        "#Obtenemos datos limpios del DataFrame\n",
        "data3_iqr= cuantitativas[(y<=Limite_Superior_iqr)&(y>=Limite_Inferior_iqr)]\n",
        "data3_iqr"
      ],
      "metadata": {
        "id": "o7CR5Wquu603"
      },
      "execution_count": null,
      "outputs": []
    },
    {
      "cell_type": "code",
      "source": [
        "#Corroboramos valores nulos del dataframe\n",
        "valores_nulos=data3_iqr.isnull().sum()\n",
        "valores_nulos"
      ],
      "metadata": {
        "id": "q8-FKCt_u_kR"
      },
      "execution_count": null,
      "outputs": []
    },
    {
      "cell_type": "code",
      "source": [
        "#Reemplazamos valores atípicos (nulos) del dataframe con \"mean\"\n",
        "#Realizamos una copia del dataframe\n",
        "data4_iqr=data3_iqr.copy()\n",
        "data4_iqr=data4_iqr.fillna(round(data4_iqr.mean(),1))\n",
        "data4_iqr"
      ],
      "metadata": {
        "id": "650c78zovDWb"
      },
      "execution_count": null,
      "outputs": []
    },
    {
      "cell_type": "code",
      "source": [
        "#Corroboramos valores nulos del dataframe LIMPIO\n",
        "valores_nulos=data4_iqr.isnull().sum()\n",
        "valores_nulos"
      ],
      "metadata": {
        "id": "y_7v6XM2vHPT"
      },
      "execution_count": null,
      "outputs": []
    },
    {
      "cell_type": "code",
      "source": [
        "#Unir columnas sin outliers (cuantitativas) y columnas cualitativas\n",
        "lastmile_delivery_operations_mit_lift_lab_LIMPIO = pd.concat([cualitativas, data4_iqr], axis=1)\n",
        "lastmile_delivery_operations_mit_lift_lab_LIMPIO"
      ],
      "metadata": {
        "id": "KVSCB0ihvLLR"
      },
      "execution_count": null,
      "outputs": []
    },
    {
      "cell_type": "code",
      "source": [
        "#Convertir DataFrame a CSV\n",
        "lastmile_delivery_operations_mit_lift_lab_LIMPIO.to_csv(\"lastmile_delivery_operations_mit_lift_lab_LIMPIO.csv\")"
      ],
      "metadata": {
        "id": "ktc1MD0zweI9"
      },
      "execution_count": 113,
      "outputs": []
    },
    {
      "cell_type": "code",
      "source": [
        "#Descargar archivo filtrado en CSV\n",
        "from google.colab import files\n",
        "\n",
        "files.download(\"lastmile_delivery_operations_mit_lift_lab_LIMPIO.csv\")"
      ],
      "metadata": {
        "id": "Q3ymywIhwlWT"
      },
      "execution_count": null,
      "outputs": []
    },
    {
      "cell_type": "markdown",
      "source": [
        "Se utilizó el metodo de cuantiles debido a la baja exposición a valores extremos (outliers). Al considerarse únicamente las observaciones entre el tercer cuartil y el primer cuartil, todas las observaciones fuera de ese rango quedan excluidas del cálculo y, por tanto, solo se tienen en cuenta las observaciones más cercanas a la mediana. Dándonos un resultado más \"exacto\" comparado con el método de desviación estándar.\n"
      ],
      "metadata": {
        "id": "fBFpxDMH2iAD"
      }
    }
  ]
}